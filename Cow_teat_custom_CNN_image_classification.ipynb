{
  "cells": [
    {
      "cell_type": "markdown",
      "source": [
        "#### Importing libraries"
      ],
      "metadata": {
        "id": "x18PUK8nu8yP"
      },
      "id": "x18PUK8nu8yP"
    },
    {
      "cell_type": "code",
      "source": [
        "from google.colab import drive\n",
        "drive.mount('/content/drive')"
      ],
      "metadata": {
        "colab": {
          "base_uri": "https://localhost:8080/"
        },
        "id": "VVJZ8FMrsWbc",
        "outputId": "3c66555a-42d0-4021-968c-f063fac48568"
      },
      "id": "VVJZ8FMrsWbc",
      "execution_count": null,
      "outputs": [
        {
          "output_type": "stream",
          "name": "stdout",
          "text": [
            "Mounted at /content/drive\n"
          ]
        }
      ]
    },
    {
      "cell_type": "code",
      "execution_count": null,
      "id": "45eac538",
      "metadata": {
        "id": "45eac538"
      },
      "outputs": [],
      "source": [
        "#!pip install -q torch-summary"
      ]
    },
    {
      "cell_type": "code",
      "execution_count": null,
      "id": "133be475",
      "metadata": {
        "id": "133be475"
      },
      "outputs": [],
      "source": [
        "import torch\n",
        "from torch import nn\n",
        "from torch import optim\n",
        "import numpy as np\n",
        "import torchvision.transforms as T\n",
        "from PIL import Image\n",
        "import os\n",
        "import matplotlib.pyplot as plt\n",
        "%matplotlib inline\n",
        "import pandas as pd\n",
        "from torchvision.datasets import ImageFolder\n",
        "from torch.utils.data import DataLoader\n",
        "import torch.nn.functional as F\n",
        "from torchsummary import summary\n",
        "import matplotlib"
      ]
    },
    {
      "cell_type": "markdown",
      "id": "009e8fc2",
      "metadata": {
        "id": "009e8fc2"
      },
      "source": [
        "# 1. Build your own convolutional neural network using pytorch"
      ]
    },
    {
      "cell_type": "code",
      "execution_count": null,
      "id": "62c95952",
      "metadata": {
        "id": "62c95952"
      },
      "outputs": [],
      "source": [
        "num_classes = 4"
      ]
    },
    {
      "cell_type": "code",
      "execution_count": null,
      "id": "eb163e8c",
      "metadata": {
        "id": "eb163e8c"
      },
      "outputs": [],
      "source": [
        "#create class CNN classification model using nn.module\n",
        "class CNN_classification(nn.Module):\n",
        "    def __init__(self,num_classes):\n",
        "    #define the layers and the sequence of execution inside init\n",
        "        super(CNN_classification,self).__init__()\n",
        "\n",
        "        #use conv2d to define the convolution layer\n",
        "        #input= 224*224*3\n",
        "        self.conv_1 = nn.Sequential(\n",
        "                nn.Conv2d(in_channels = 3,out_channels = 32,kernel_size = 5,stride = 1, padding = 1),\n",
        "                nn.ReLU(),\n",
        "                nn.Conv2d(in_channels = 32,out_channels = 32,kernel_size = 3,stride = 1, padding = 1),\n",
        "                nn.ReLU(),\n",
        "                nn.Conv2d(in_channels = 32,out_channels = 32,kernel_size = 3,stride = 1, padding = 1))\n",
        "        self.cnn1_res = nn.Conv2d(in_channels = 3,out_channels = 32,kernel_size = 3,stride = 1, padding = 0)\n",
        "        self.batch1 = nn.BatchNorm2d(32)\n",
        "        self.mpool1 = nn.MaxPool2d(kernel_size = 2, stride = 2)\n",
        "\n",
        "        self.conv_2 = nn.Sequential(\n",
        "                nn.Conv2d(in_channels = 32,out_channels = 64,kernel_size = 5,stride = 1, padding = 1),\n",
        "                nn.ReLU(),\n",
        "                nn.Conv2d(in_channels = 64,out_channels = 64,kernel_size = 3,stride = 1, padding = 1),\n",
        "                nn.ReLU(),\n",
        "                nn.Conv2d(in_channels = 64,out_channels = 64,kernel_size = 3,stride = 1, padding = 1))\n",
        "        self.cnn2_res = nn.Conv2d(in_channels = 32,out_channels = 64,kernel_size = 3,stride = 1, padding = 0)\n",
        "        self.batch2 = nn.BatchNorm2d(64)\n",
        "        self.mpool2 = nn.MaxPool2d(kernel_size = 2, stride = 2)\n",
        "\n",
        "        self.conv_3 = nn.Sequential(\n",
        "                nn.Conv2d(in_channels = 64,out_channels = 128,kernel_size = 5,stride = 1, padding = 1),\n",
        "                nn.ReLU(),\n",
        "                nn.Conv2d(in_channels = 128,out_channels = 128,kernel_size = 3,stride = 1, padding = 1),\n",
        "                nn.ReLU(),\n",
        "                nn.Conv2d(in_channels = 128,out_channels = 128,kernel_size = 3,stride = 1, padding = 1))\n",
        "        self.cnn3_res = nn.Conv2d(in_channels = 64,out_channels = 128,kernel_size = 3,stride = 1, padding = 0)\n",
        "        self.batch3 = nn.BatchNorm2d(128)\n",
        "        self.mpool3 = nn.MaxPool2d(kernel_size = 2, stride = 2)\n",
        "\n",
        "        self.conv_4 = nn.Sequential(\n",
        "                nn.Conv2d(in_channels = 128,out_channels = 256,kernel_size = 5,stride = 1, padding = 1),\n",
        "                nn.ReLU(),\n",
        "                nn.Conv2d(in_channels = 256,out_channels = 256,kernel_size = 3,stride = 1, padding = 1),\n",
        "                nn.ReLU(),\n",
        "                nn.Conv2d(in_channels = 256,out_channels = 256,kernel_size = 3,stride = 1, padding = 1))\n",
        "        self.cnn4_res = nn.Conv2d(in_channels = 128,out_channels = 256,kernel_size = 3,stride = 1, padding = 0)\n",
        "        self.batch4 = nn.BatchNorm2d(256)\n",
        "        self.mpool4 = nn.MaxPool2d(kernel_size = 2, stride = 2)\n",
        "\n",
        "        self.conv_5 = nn.Sequential(\n",
        "                nn.Conv2d(in_channels = 256,out_channels = 512,kernel_size = 5,stride = 1, padding = 1),\n",
        "                nn.ReLU(),\n",
        "                nn.Conv2d(in_channels = 512,out_channels = 512,kernel_size = 3,stride = 1, padding = 1),\n",
        "                nn.ReLU(),\n",
        "                nn.Conv2d(in_channels = 512,out_channels = 512,kernel_size = 3,stride = 1, padding = 1))\n",
        "        self.cnn5_res = nn.Conv2d(in_channels = 256,out_channels = 512,kernel_size = 3,stride = 1, padding = 0)\n",
        "        self.batch5 = nn.BatchNorm2d(512)\n",
        "        self.mpool5 = nn.MaxPool2d(kernel_size = 2, stride = 2)\n",
        "\n",
        "        self.fc_1 = nn.Sequential(\n",
        "                    nn.Linear(12800,512), #(5*5*512)\n",
        "                    nn.Dropout(0.4),\n",
        "                    nn.ReLU(),\n",
        "                    nn.Linear(512,num_classes))\n",
        "\n",
        "    def forward(self, x):\n",
        "\n",
        "        res = x\n",
        "        #conv 1\n",
        "        x = self.conv_1(x)\n",
        "        #residual\n",
        "        res = self.cnn1_res(res)\n",
        "        x += res\n",
        "        x = self.batch1(x)\n",
        "        x = F.relu(x)\n",
        "        x = self.mpool1(x)\n",
        "\n",
        "        res = x\n",
        "        #conv 2\n",
        "        x = self.conv_2(x)\n",
        "        #residual\n",
        "        res = self.cnn2_res(res)\n",
        "        x += res\n",
        "        x = self.batch2(x)\n",
        "        x = F.relu(x)\n",
        "        x = self.mpool2(x)\n",
        "\n",
        "        res = x\n",
        "        #conv 3\n",
        "        x = self.conv_3(x)\n",
        "        #residual\n",
        "        res = self.cnn3_res(res)\n",
        "        x += res\n",
        "        x = self.batch3(x)\n",
        "        x = F.relu(x)\n",
        "        x = self.mpool3(x)\n",
        "\n",
        "        res = x\n",
        "        #conv 4\n",
        "        x = self.conv_4(x)\n",
        "        #residual\n",
        "        res = self.cnn4_res(res)\n",
        "        x += res\n",
        "        x = self.batch4(x)\n",
        "        x = F.relu(x)\n",
        "        x = self.mpool4(x)\n",
        "\n",
        "        res = x\n",
        "        #conv 5\n",
        "        x = self.conv_5(x)\n",
        "        #residual\n",
        "        res = self.cnn5_res(res)\n",
        "        x += res\n",
        "        x = self.batch5(x)\n",
        "        x = F.relu(x)\n",
        "        x = self.mpool5(x)\n",
        "\n",
        "        #print(x.shape)\n",
        "        x = torch.flatten(x,start_dim = 1)\n",
        "        #x = x.view(-1,5*5*512)\n",
        "        #x = x.reshape(x.size(0),-1)\n",
        "\n",
        "        x = self.fc_1(x)\n",
        "        x = torch.sigmoid(x)\n",
        "        return x"
      ]
    },
    {
      "cell_type": "code",
      "execution_count": null,
      "id": "137f7767",
      "metadata": {
        "id": "137f7767"
      },
      "outputs": [],
      "source": [
        "CowTeatCNN = CNN_classification(num_classes)"
      ]
    },
    {
      "cell_type": "code",
      "execution_count": null,
      "id": "50a7c1b2",
      "metadata": {
        "colab": {
          "base_uri": "https://localhost:8080/"
        },
        "id": "50a7c1b2",
        "outputId": "146f34b1-87d2-428f-94c9-0cf48318868d"
      },
      "outputs": [
        {
          "output_type": "execute_result",
          "data": {
            "text/plain": [
              "CNN_classification(\n",
              "  (conv_1): Sequential(\n",
              "    (0): Conv2d(3, 32, kernel_size=(5, 5), stride=(1, 1), padding=(1, 1))\n",
              "    (1): ReLU()\n",
              "    (2): Conv2d(32, 32, kernel_size=(3, 3), stride=(1, 1), padding=(1, 1))\n",
              "    (3): ReLU()\n",
              "    (4): Conv2d(32, 32, kernel_size=(3, 3), stride=(1, 1), padding=(1, 1))\n",
              "  )\n",
              "  (cnn1_res): Conv2d(3, 32, kernel_size=(3, 3), stride=(1, 1))\n",
              "  (batch1): BatchNorm2d(32, eps=1e-05, momentum=0.1, affine=True, track_running_stats=True)\n",
              "  (mpool1): MaxPool2d(kernel_size=2, stride=2, padding=0, dilation=1, ceil_mode=False)\n",
              "  (conv_2): Sequential(\n",
              "    (0): Conv2d(32, 64, kernel_size=(5, 5), stride=(1, 1), padding=(1, 1))\n",
              "    (1): ReLU()\n",
              "    (2): Conv2d(64, 64, kernel_size=(3, 3), stride=(1, 1), padding=(1, 1))\n",
              "    (3): ReLU()\n",
              "    (4): Conv2d(64, 64, kernel_size=(3, 3), stride=(1, 1), padding=(1, 1))\n",
              "  )\n",
              "  (cnn2_res): Conv2d(32, 64, kernel_size=(3, 3), stride=(1, 1))\n",
              "  (batch2): BatchNorm2d(64, eps=1e-05, momentum=0.1, affine=True, track_running_stats=True)\n",
              "  (mpool2): MaxPool2d(kernel_size=2, stride=2, padding=0, dilation=1, ceil_mode=False)\n",
              "  (conv_3): Sequential(\n",
              "    (0): Conv2d(64, 128, kernel_size=(5, 5), stride=(1, 1), padding=(1, 1))\n",
              "    (1): ReLU()\n",
              "    (2): Conv2d(128, 128, kernel_size=(3, 3), stride=(1, 1), padding=(1, 1))\n",
              "    (3): ReLU()\n",
              "    (4): Conv2d(128, 128, kernel_size=(3, 3), stride=(1, 1), padding=(1, 1))\n",
              "  )\n",
              "  (cnn3_res): Conv2d(64, 128, kernel_size=(3, 3), stride=(1, 1))\n",
              "  (batch3): BatchNorm2d(128, eps=1e-05, momentum=0.1, affine=True, track_running_stats=True)\n",
              "  (mpool3): MaxPool2d(kernel_size=2, stride=2, padding=0, dilation=1, ceil_mode=False)\n",
              "  (conv_4): Sequential(\n",
              "    (0): Conv2d(128, 256, kernel_size=(5, 5), stride=(1, 1), padding=(1, 1))\n",
              "    (1): ReLU()\n",
              "    (2): Conv2d(256, 256, kernel_size=(3, 3), stride=(1, 1), padding=(1, 1))\n",
              "    (3): ReLU()\n",
              "    (4): Conv2d(256, 256, kernel_size=(3, 3), stride=(1, 1), padding=(1, 1))\n",
              "  )\n",
              "  (cnn4_res): Conv2d(128, 256, kernel_size=(3, 3), stride=(1, 1))\n",
              "  (batch4): BatchNorm2d(256, eps=1e-05, momentum=0.1, affine=True, track_running_stats=True)\n",
              "  (mpool4): MaxPool2d(kernel_size=2, stride=2, padding=0, dilation=1, ceil_mode=False)\n",
              "  (conv_5): Sequential(\n",
              "    (0): Conv2d(256, 512, kernel_size=(5, 5), stride=(1, 1), padding=(1, 1))\n",
              "    (1): ReLU()\n",
              "    (2): Conv2d(512, 512, kernel_size=(3, 3), stride=(1, 1), padding=(1, 1))\n",
              "    (3): ReLU()\n",
              "    (4): Conv2d(512, 512, kernel_size=(3, 3), stride=(1, 1), padding=(1, 1))\n",
              "  )\n",
              "  (cnn5_res): Conv2d(256, 512, kernel_size=(3, 3), stride=(1, 1))\n",
              "  (batch5): BatchNorm2d(512, eps=1e-05, momentum=0.1, affine=True, track_running_stats=True)\n",
              "  (mpool5): MaxPool2d(kernel_size=2, stride=2, padding=0, dilation=1, ceil_mode=False)\n",
              "  (fc_1): Sequential(\n",
              "    (0): Linear(in_features=12800, out_features=512, bias=True)\n",
              "    (1): Dropout(p=0.4, inplace=False)\n",
              "    (2): ReLU()\n",
              "    (3): Linear(in_features=512, out_features=4, bias=True)\n",
              "  )\n",
              ")"
            ]
          },
          "metadata": {},
          "execution_count": 7
        }
      ],
      "source": [
        "device = torch.device(\"cuda\" if torch.cuda.is_available() else \"cpu\")\n",
        "CowTeatCNN.to(device)"
      ]
    },
    {
      "cell_type": "code",
      "execution_count": null,
      "id": "486e374d",
      "metadata": {
        "scrolled": false,
        "colab": {
          "base_uri": "https://localhost:8080/"
        },
        "id": "486e374d",
        "outputId": "5453846e-f3d0-46d3-9f4c-28fcd90f1e9b"
      },
      "outputs": [
        {
          "output_type": "stream",
          "name": "stdout",
          "text": [
            "----------------------------------------------------------------\n",
            "        Layer (type)               Output Shape         Param #\n",
            "================================================================\n",
            "            Conv2d-1         [-1, 32, 222, 222]           2,432\n",
            "              ReLU-2         [-1, 32, 222, 222]               0\n",
            "            Conv2d-3         [-1, 32, 222, 222]           9,248\n",
            "              ReLU-4         [-1, 32, 222, 222]               0\n",
            "            Conv2d-5         [-1, 32, 222, 222]           9,248\n",
            "            Conv2d-6         [-1, 32, 222, 222]             896\n",
            "       BatchNorm2d-7         [-1, 32, 222, 222]              64\n",
            "         MaxPool2d-8         [-1, 32, 111, 111]               0\n",
            "            Conv2d-9         [-1, 64, 109, 109]          51,264\n",
            "             ReLU-10         [-1, 64, 109, 109]               0\n",
            "           Conv2d-11         [-1, 64, 109, 109]          36,928\n",
            "             ReLU-12         [-1, 64, 109, 109]               0\n",
            "           Conv2d-13         [-1, 64, 109, 109]          36,928\n",
            "           Conv2d-14         [-1, 64, 109, 109]          18,496\n",
            "      BatchNorm2d-15         [-1, 64, 109, 109]             128\n",
            "        MaxPool2d-16           [-1, 64, 54, 54]               0\n",
            "           Conv2d-17          [-1, 128, 52, 52]         204,928\n",
            "             ReLU-18          [-1, 128, 52, 52]               0\n",
            "           Conv2d-19          [-1, 128, 52, 52]         147,584\n",
            "             ReLU-20          [-1, 128, 52, 52]               0\n",
            "           Conv2d-21          [-1, 128, 52, 52]         147,584\n",
            "           Conv2d-22          [-1, 128, 52, 52]          73,856\n",
            "      BatchNorm2d-23          [-1, 128, 52, 52]             256\n",
            "        MaxPool2d-24          [-1, 128, 26, 26]               0\n",
            "           Conv2d-25          [-1, 256, 24, 24]         819,456\n",
            "             ReLU-26          [-1, 256, 24, 24]               0\n",
            "           Conv2d-27          [-1, 256, 24, 24]         590,080\n",
            "             ReLU-28          [-1, 256, 24, 24]               0\n",
            "           Conv2d-29          [-1, 256, 24, 24]         590,080\n",
            "           Conv2d-30          [-1, 256, 24, 24]         295,168\n",
            "      BatchNorm2d-31          [-1, 256, 24, 24]             512\n",
            "        MaxPool2d-32          [-1, 256, 12, 12]               0\n",
            "           Conv2d-33          [-1, 512, 10, 10]       3,277,312\n",
            "             ReLU-34          [-1, 512, 10, 10]               0\n",
            "           Conv2d-35          [-1, 512, 10, 10]       2,359,808\n",
            "             ReLU-36          [-1, 512, 10, 10]               0\n",
            "           Conv2d-37          [-1, 512, 10, 10]       2,359,808\n",
            "           Conv2d-38          [-1, 512, 10, 10]       1,180,160\n",
            "      BatchNorm2d-39          [-1, 512, 10, 10]           1,024\n",
            "        MaxPool2d-40            [-1, 512, 5, 5]               0\n",
            "           Linear-41                  [-1, 512]       6,554,112\n",
            "          Dropout-42                  [-1, 512]               0\n",
            "             ReLU-43                  [-1, 512]               0\n",
            "           Linear-44                    [-1, 4]           2,052\n",
            "================================================================\n",
            "Total params: 18,769,412\n",
            "Trainable params: 18,769,412\n",
            "Non-trainable params: 0\n",
            "----------------------------------------------------------------\n",
            "Input size (MB): 0.57\n",
            "Forward/backward pass size (MB): 159.41\n",
            "Params size (MB): 71.60\n",
            "Estimated Total Size (MB): 231.58\n",
            "----------------------------------------------------------------\n"
          ]
        }
      ],
      "source": [
        "summary(CowTeatCNN,(3,224,224))"
      ]
    },
    {
      "cell_type": "markdown",
      "id": "a0c45b84",
      "metadata": {
        "id": "a0c45b84"
      },
      "source": [
        "# 2. Train your model using cow teat datasets (you may need to use  Google Colab (or Kaggle) with GPU to train your code)\n",
        "\n",
        "### (1) use torchvision.datasets.ImageFolder for the training dataset\n",
        "### (2) use custom dataloader for test dataset (return image tensor and file name)"
      ]
    },
    {
      "cell_type": "markdown",
      "source": [
        "#### Train data:"
      ],
      "metadata": {
        "id": "hT3kQQeIxmM6"
      },
      "id": "hT3kQQeIxmM6"
    },
    {
      "cell_type": "code",
      "execution_count": null,
      "id": "3ea32e90",
      "metadata": {
        "id": "3ea32e90"
      },
      "outputs": [],
      "source": [
        "path = \"/content/drive/Shareddrives/School/NN and Deep learning/Cow teat dataset/Train/\""
      ]
    },
    {
      "cell_type": "code",
      "execution_count": null,
      "id": "70c8ae3c",
      "metadata": {
        "id": "70c8ae3c"
      },
      "outputs": [],
      "source": [
        "#define the mean and std for normalizing all the channels in the images\n",
        "norm = T.Normalize(mean =(0.485,0.456,0.406),std =(0.229,0.224,0.225))\n",
        "\n",
        "#define size to resize the images\n",
        "size = (224,224)\n",
        "\n",
        "#Resize, convert to torch tensor and normalize the image\n",
        "transform_img = T.Compose([T.Resize(size),T.ToTensor(),norm])"
      ]
    },
    {
      "cell_type": "code",
      "execution_count": null,
      "id": "517067fb",
      "metadata": {
        "id": "517067fb"
      },
      "outputs": [],
      "source": [
        "dataset = ImageFolder(root = path, transform = transform_img)"
      ]
    },
    {
      "cell_type": "code",
      "execution_count": null,
      "id": "f53ed5d1",
      "metadata": {
        "colab": {
          "base_uri": "https://localhost:8080/"
        },
        "id": "f53ed5d1",
        "outputId": "d94e12b2-7698-4a5f-8dc4-2bdfff15b784"
      },
      "outputs": [
        {
          "output_type": "stream",
          "name": "stdout",
          "text": [
            "Dataset ImageFolder\n",
            "    Number of datapoints: 1149\n",
            "    Root location: /content/drive/Shareddrives/School/NN and Deep learning/Cow teat dataset/Train/\n",
            "    StandardTransform\n",
            "Transform: Compose(\n",
            "               Resize(size=(224, 224), interpolation=bilinear, max_size=None, antialias=warn)\n",
            "               ToTensor()\n",
            "               Normalize(mean=(0.485, 0.456, 0.406), std=(0.229, 0.224, 0.225))\n",
            "           )\n"
          ]
        }
      ],
      "source": [
        "print(dataset)"
      ]
    },
    {
      "cell_type": "code",
      "execution_count": null,
      "id": "cb987a81",
      "metadata": {
        "colab": {
          "base_uri": "https://localhost:8080/"
        },
        "id": "cb987a81",
        "outputId": "251c257a-4bdd-4d23-a64d-91335c2c1ca0"
      },
      "outputs": [
        {
          "output_type": "stream",
          "name": "stdout",
          "text": [
            "{'Score_1': 0, 'Score_2': 1, 'Score_3': 2, 'Score_4': 3}\n"
          ]
        }
      ],
      "source": [
        "print(dataset.class_to_idx)"
      ]
    },
    {
      "cell_type": "code",
      "execution_count": null,
      "id": "1ddbcd31",
      "metadata": {
        "id": "1ddbcd31"
      },
      "outputs": [],
      "source": [
        "#split the dataset into train and validation set(80-20)\n",
        "t_size = int(np.floor(0.8* len(dataset)))\n",
        "v_size = len(dataset) - t_size\n",
        "train_dataset, val_dataset = torch.utils.data.random_split(dataset,[t_size,v_size])"
      ]
    },
    {
      "cell_type": "code",
      "execution_count": null,
      "id": "184a942a",
      "metadata": {
        "id": "184a942a"
      },
      "outputs": [],
      "source": [
        "#create data loaders\n",
        "bs = 16\n",
        "train_dataloader = DataLoader(train_dataset,bs,shuffle = True)\n",
        "valid_dataloader = DataLoader(val_dataset,bs)"
      ]
    },
    {
      "cell_type": "code",
      "execution_count": null,
      "id": "89debc19",
      "metadata": {
        "id": "89debc19",
        "colab": {
          "base_uri": "https://localhost:8080/",
          "height": 52
        },
        "outputId": "bb6e30ff-8e0d-4cb7-bedb-44f545dbf6ce"
      },
      "outputs": [
        {
          "output_type": "execute_result",
          "data": {
            "text/plain": [
              "'\\n#check the no.of classes\\ndef get_class_count(dataset):\\n    count_dict ={k:0 for k,v in dataset.class_to_idx.items()}\\n\\n    for input, label in dataset:\\n        label = idx_to_class[label]\\n        count_dict[label] +=1\\n\\n    return count_dict\\n#print(train_dataloader.class_to_idx)\\n'"
            ],
            "application/vnd.google.colaboratory.intrinsic+json": {
              "type": "string"
            }
          },
          "metadata": {},
          "execution_count": 16
        }
      ],
      "source": [
        "'''\n",
        "#check the no.of classes\n",
        "def get_class_count(dataset):\n",
        "    count_dict ={k:0 for k,v in dataset.class_to_idx.items()}\n",
        "\n",
        "    for input, label in dataset:\n",
        "        label = idx_to_class[label]\n",
        "        count_dict[label] +=1\n",
        "\n",
        "    return count_dict\n",
        "#print(train_dataloader.class_to_idx)\n",
        "'''"
      ]
    },
    {
      "cell_type": "code",
      "execution_count": null,
      "id": "cd6c9eab",
      "metadata": {
        "id": "cd6c9eab"
      },
      "outputs": [],
      "source": [
        "#pd.DataFrame.from_dict([get_class_count(train_dataset)]).melt()"
      ]
    },
    {
      "cell_type": "code",
      "execution_count": null,
      "id": "1d6f4fd3",
      "metadata": {
        "id": "1d6f4fd3"
      },
      "outputs": [],
      "source": [
        "loss_fn = nn.CrossEntropyLoss()\n",
        "optimizer = optim.SGD(CowTeatCNN.parameters(),lr = 0.001)"
      ]
    },
    {
      "cell_type": "code",
      "execution_count": null,
      "id": "51aa3b62",
      "metadata": {
        "colab": {
          "base_uri": "https://localhost:8080/"
        },
        "id": "51aa3b62",
        "outputId": "eba73ec5-437c-4120-c107-abe5098800de"
      },
      "outputs": [
        {
          "output_type": "stream",
          "name": "stdout",
          "text": [
            "Epoch 1/150, Train loss:0.0807, Val loss:1.1945, Train acc:52.3395, Val acc:65.6522\n",
            "Epoch 2/150, Train loss:0.0756, Val loss:1.1447, Train acc:59.9565, Val acc:66.9565\n",
            "Epoch 3/150, Train loss:0.0741, Val loss:1.1220, Train acc:58.8683, Val acc:66.5217\n",
            "Epoch 4/150, Train loss:0.0732, Val loss:1.1086, Train acc:58.4331, Val acc:66.5217\n",
            "Epoch 5/150, Train loss:0.0720, Val loss:1.0982, Train acc:60.6094, Val acc:66.9565\n",
            "Epoch 6/150, Train loss:0.0717, Val loss:1.0846, Train acc:59.9565, Val acc:66.5217\n",
            "Epoch 7/150, Train loss:0.0711, Val loss:1.0816, Train acc:60.0653, Val acc:67.3913\n",
            "Epoch 8/150, Train loss:0.0709, Val loss:1.0756, Train acc:59.4124, Val acc:67.8261\n",
            "Epoch 9/150, Train loss:0.0702, Val loss:1.0670, Train acc:61.1534, Val acc:68.6957\n",
            "Epoch 10/150, Train loss:0.0702, Val loss:1.0654, Train acc:59.3036, Val acc:68.6957\n",
            "Epoch 11/150, Train loss:0.0695, Val loss:1.0590, Train acc:60.8270, Val acc:69.1304\n",
            "Epoch 12/150, Train loss:0.0697, Val loss:1.0562, Train acc:60.8270, Val acc:67.8261\n",
            "Epoch 13/150, Train loss:0.0692, Val loss:1.0588, Train acc:61.1534, Val acc:69.1304\n",
            "Epoch 14/150, Train loss:0.0694, Val loss:1.0468, Train acc:59.9565, Val acc:69.1304\n",
            "Epoch 15/150, Train loss:0.0690, Val loss:1.0561, Train acc:61.6975, Val acc:69.5652\n",
            "Epoch 16/150, Train loss:0.0691, Val loss:1.0496, Train acc:60.0653, Val acc:68.2609\n",
            "Epoch 17/150, Train loss:0.0691, Val loss:1.0553, Train acc:60.5005, Val acc:69.1304\n",
            "Epoch 18/150, Train loss:0.0686, Val loss:1.0479, Train acc:60.9358, Val acc:69.1304\n",
            "Epoch 19/150, Train loss:0.0687, Val loss:1.0418, Train acc:60.1741, Val acc:69.1304\n",
            "Epoch 20/150, Train loss:0.0687, Val loss:1.0459, Train acc:61.1534, Val acc:68.6957\n",
            "Epoch 21/150, Train loss:0.0685, Val loss:1.0440, Train acc:61.4799, Val acc:69.1304\n",
            "Epoch 22/150, Train loss:0.0682, Val loss:1.0430, Train acc:61.0446, Val acc:68.6957\n",
            "Epoch 23/150, Train loss:0.0682, Val loss:1.0422, Train acc:60.9358, Val acc:69.1304\n",
            "Epoch 24/150, Train loss:0.0683, Val loss:1.0368, Train acc:61.0446, Val acc:68.6957\n",
            "Epoch 25/150, Train loss:0.0682, Val loss:1.0340, Train acc:60.6094, Val acc:69.1304\n",
            "Epoch 26/150, Train loss:0.0682, Val loss:1.0437, Train acc:61.0446, Val acc:68.2609\n",
            "Epoch 27/150, Train loss:0.0681, Val loss:1.0361, Train acc:61.4799, Val acc:69.5652\n",
            "Epoch 28/150, Train loss:0.0680, Val loss:1.0453, Train acc:60.8270, Val acc:69.1304\n",
            "Epoch 29/150, Train loss:0.0680, Val loss:1.0372, Train acc:61.1534, Val acc:69.1304\n",
            "Epoch 30/150, Train loss:0.0681, Val loss:1.0379, Train acc:61.0446, Val acc:69.1304\n",
            "Epoch 31/150, Train loss:0.0679, Val loss:1.0396, Train acc:60.6094, Val acc:69.5652\n",
            "Epoch 32/150, Train loss:0.0680, Val loss:1.0340, Train acc:60.5005, Val acc:69.1304\n",
            "Epoch 33/150, Train loss:0.0676, Val loss:1.0331, Train acc:61.5887, Val acc:69.1304\n",
            "Epoch 34/150, Train loss:0.0675, Val loss:1.0368, Train acc:61.5887, Val acc:69.5652\n",
            "Epoch 35/150, Train loss:0.0676, Val loss:1.0362, Train acc:61.0446, Val acc:69.1304\n",
            "Epoch 36/150, Train loss:0.0674, Val loss:1.0316, Train acc:61.2622, Val acc:69.5652\n",
            "Epoch 37/150, Train loss:0.0675, Val loss:1.0378, Train acc:60.8270, Val acc:69.1304\n",
            "Epoch 38/150, Train loss:0.0670, Val loss:1.0319, Train acc:60.6094, Val acc:69.5652\n",
            "Epoch 39/150, Train loss:0.0675, Val loss:1.0315, Train acc:61.8063, Val acc:69.1304\n",
            "Epoch 40/150, Train loss:0.0669, Val loss:1.0288, Train acc:61.2622, Val acc:70.0000\n",
            "Epoch 41/150, Train loss:0.0673, Val loss:1.0257, Train acc:61.0446, Val acc:69.1304\n",
            "Epoch 42/150, Train loss:0.0669, Val loss:1.0281, Train acc:61.3711, Val acc:69.5652\n",
            "Epoch 43/150, Train loss:0.0670, Val loss:1.0377, Train acc:61.8063, Val acc:69.1304\n",
            "Epoch 44/150, Train loss:0.0673, Val loss:1.0277, Train acc:61.0446, Val acc:68.2609\n",
            "Epoch 45/150, Train loss:0.0668, Val loss:1.0343, Train acc:61.1534, Val acc:69.1304\n",
            "Epoch 46/150, Train loss:0.0668, Val loss:1.0318, Train acc:61.2622, Val acc:70.0000\n",
            "Epoch 47/150, Train loss:0.0669, Val loss:1.0325, Train acc:61.1534, Val acc:69.5652\n",
            "Epoch 48/150, Train loss:0.0664, Val loss:1.0328, Train acc:61.6975, Val acc:70.0000\n",
            "Epoch 49/150, Train loss:0.0667, Val loss:1.0284, Train acc:61.5887, Val acc:69.1304\n",
            "Epoch 50/150, Train loss:0.0666, Val loss:1.0297, Train acc:61.1534, Val acc:70.4348\n",
            "Epoch 51/150, Train loss:0.0664, Val loss:1.0301, Train acc:61.5887, Val acc:67.8261\n",
            "Epoch 52/150, Train loss:0.0666, Val loss:1.0236, Train acc:61.6975, Val acc:69.1304\n",
            "Epoch 53/150, Train loss:0.0667, Val loss:1.0304, Train acc:61.3711, Val acc:70.0000\n",
            "Epoch 54/150, Train loss:0.0666, Val loss:1.0318, Train acc:61.6975, Val acc:69.5652\n",
            "Epoch 55/150, Train loss:0.0662, Val loss:1.0281, Train acc:62.2416, Val acc:69.5652\n",
            "Epoch 56/150, Train loss:0.0660, Val loss:1.0290, Train acc:62.0239, Val acc:69.1304\n",
            "Epoch 57/150, Train loss:0.0658, Val loss:1.0289, Train acc:62.4592, Val acc:69.1304\n",
            "Epoch 58/150, Train loss:0.0659, Val loss:1.0333, Train acc:61.8063, Val acc:70.0000\n",
            "Epoch 59/150, Train loss:0.0661, Val loss:1.0261, Train acc:61.6975, Val acc:70.0000\n",
            "Epoch 60/150, Train loss:0.0660, Val loss:1.0243, Train acc:61.2622, Val acc:69.5652\n",
            "Epoch 61/150, Train loss:0.0659, Val loss:1.0296, Train acc:61.8063, Val acc:69.1304\n",
            "Epoch 62/150, Train loss:0.0659, Val loss:1.0278, Train acc:62.3504, Val acc:70.0000\n",
            "Epoch 63/150, Train loss:0.0659, Val loss:1.0367, Train acc:61.3711, Val acc:69.5652\n",
            "Epoch 64/150, Train loss:0.0658, Val loss:1.0279, Train acc:61.9151, Val acc:70.0000\n",
            "Epoch 65/150, Train loss:0.0657, Val loss:1.0338, Train acc:61.2622, Val acc:69.1304\n",
            "Epoch 66/150, Train loss:0.0658, Val loss:1.0272, Train acc:62.0239, Val acc:70.0000\n",
            "Epoch 67/150, Train loss:0.0658, Val loss:1.0230, Train acc:62.0239, Val acc:68.6957\n",
            "Epoch 68/150, Train loss:0.0656, Val loss:1.0337, Train acc:61.1534, Val acc:70.0000\n",
            "Epoch 69/150, Train loss:0.0658, Val loss:1.0273, Train acc:61.1534, Val acc:68.2609\n",
            "Epoch 70/150, Train loss:0.0657, Val loss:1.0311, Train acc:61.9151, Val acc:68.6957\n",
            "Epoch 71/150, Train loss:0.0656, Val loss:1.0239, Train acc:61.6975, Val acc:69.1304\n",
            "Epoch 72/150, Train loss:0.0654, Val loss:1.0328, Train acc:61.9151, Val acc:68.6957\n",
            "Epoch 73/150, Train loss:0.0653, Val loss:1.0304, Train acc:62.0239, Val acc:68.6957\n",
            "Epoch 74/150, Train loss:0.0652, Val loss:1.0345, Train acc:61.6975, Val acc:68.2609\n",
            "Epoch 75/150, Train loss:0.0653, Val loss:1.0232, Train acc:62.2416, Val acc:69.5652\n",
            "Epoch 76/150, Train loss:0.0652, Val loss:1.0295, Train acc:61.6975, Val acc:69.5652\n",
            "Epoch 77/150, Train loss:0.0649, Val loss:1.0236, Train acc:62.0239, Val acc:68.6957\n",
            "Epoch 78/150, Train loss:0.0648, Val loss:1.0251, Train acc:61.9151, Val acc:68.6957\n",
            "Epoch 79/150, Train loss:0.0649, Val loss:1.0284, Train acc:62.4592, Val acc:69.1304\n",
            "Epoch 80/150, Train loss:0.0648, Val loss:1.0300, Train acc:62.8945, Val acc:69.1304\n",
            "Epoch 81/150, Train loss:0.0644, Val loss:1.0219, Train acc:62.6768, Val acc:68.2609\n",
            "Epoch 82/150, Train loss:0.0643, Val loss:1.0316, Train acc:62.8945, Val acc:68.2609\n",
            "Epoch 83/150, Train loss:0.0645, Val loss:1.0303, Train acc:63.2209, Val acc:69.1304\n",
            "Epoch 84/150, Train loss:0.0645, Val loss:1.0279, Train acc:62.2416, Val acc:69.1304\n",
            "Epoch 85/150, Train loss:0.0645, Val loss:1.0292, Train acc:63.1121, Val acc:69.1304\n",
            "Epoch 86/150, Train loss:0.0643, Val loss:1.0371, Train acc:62.4592, Val acc:68.6957\n",
            "Epoch 87/150, Train loss:0.0644, Val loss:1.0293, Train acc:63.0033, Val acc:69.5652\n",
            "Epoch 88/150, Train loss:0.0644, Val loss:1.0355, Train acc:62.4592, Val acc:69.5652\n",
            "Epoch 89/150, Train loss:0.0645, Val loss:1.0224, Train acc:62.7856, Val acc:70.0000\n",
            "Epoch 90/150, Train loss:0.0646, Val loss:1.0268, Train acc:62.6768, Val acc:68.2609\n",
            "Epoch 91/150, Train loss:0.0641, Val loss:1.0337, Train acc:63.3297, Val acc:66.9565\n",
            "Epoch 92/150, Train loss:0.0641, Val loss:1.0319, Train acc:62.7856, Val acc:68.6957\n",
            "Epoch 93/150, Train loss:0.0639, Val loss:1.0305, Train acc:63.4385, Val acc:69.1304\n",
            "Epoch 94/150, Train loss:0.0639, Val loss:1.0292, Train acc:63.4385, Val acc:68.2609\n",
            "Epoch 95/150, Train loss:0.0639, Val loss:1.0309, Train acc:63.4385, Val acc:68.2609\n",
            "Epoch 96/150, Train loss:0.0639, Val loss:1.0337, Train acc:63.0033, Val acc:68.2609\n",
            "Epoch 97/150, Train loss:0.0638, Val loss:1.0297, Train acc:63.1121, Val acc:69.1304\n",
            "Epoch 98/150, Train loss:0.0638, Val loss:1.0284, Train acc:62.8945, Val acc:68.6957\n",
            "Epoch 99/150, Train loss:0.0636, Val loss:1.0340, Train acc:64.3090, Val acc:67.8261\n",
            "Epoch 100/150, Train loss:0.0636, Val loss:1.0364, Train acc:63.4385, Val acc:67.8261\n",
            "Epoch 101/150, Train loss:0.0638, Val loss:1.0306, Train acc:63.0033, Val acc:70.0000\n",
            "Epoch 102/150, Train loss:0.0636, Val loss:1.0336, Train acc:64.4178, Val acc:67.8261\n",
            "Epoch 103/150, Train loss:0.0635, Val loss:1.0381, Train acc:64.2002, Val acc:69.1304\n",
            "Epoch 104/150, Train loss:0.0634, Val loss:1.0320, Train acc:63.4385, Val acc:69.1304\n",
            "Epoch 105/150, Train loss:0.0630, Val loss:1.0298, Train acc:64.3090, Val acc:69.5652\n",
            "Epoch 106/150, Train loss:0.0634, Val loss:1.0293, Train acc:64.0914, Val acc:69.1304\n",
            "Epoch 107/150, Train loss:0.0633, Val loss:1.0318, Train acc:63.4385, Val acc:70.0000\n",
            "Epoch 108/150, Train loss:0.0632, Val loss:1.0335, Train acc:64.4178, Val acc:68.6957\n",
            "Epoch 109/150, Train loss:0.0628, Val loss:1.0312, Train acc:64.0914, Val acc:69.1304\n",
            "Epoch 110/150, Train loss:0.0626, Val loss:1.0321, Train acc:64.9619, Val acc:68.6957\n",
            "Epoch 111/150, Train loss:0.0629, Val loss:1.0280, Train acc:63.6561, Val acc:69.1304\n",
            "Epoch 112/150, Train loss:0.0630, Val loss:1.0363, Train acc:64.0914, Val acc:70.4348\n",
            "Epoch 113/150, Train loss:0.0628, Val loss:1.0268, Train acc:64.6355, Val acc:67.8261\n",
            "Epoch 114/150, Train loss:0.0630, Val loss:1.0377, Train acc:65.5060, Val acc:68.2609\n",
            "Epoch 115/150, Train loss:0.0628, Val loss:1.0297, Train acc:65.8324, Val acc:69.5652\n",
            "Epoch 116/150, Train loss:0.0626, Val loss:1.0338, Train acc:64.5267, Val acc:66.9565\n",
            "Epoch 117/150, Train loss:0.0627, Val loss:1.0372, Train acc:64.4178, Val acc:68.6957\n",
            "Epoch 118/150, Train loss:0.0622, Val loss:1.0318, Train acc:65.3972, Val acc:70.4348\n",
            "Epoch 119/150, Train loss:0.0623, Val loss:1.0351, Train acc:65.2884, Val acc:68.6957\n",
            "Epoch 120/150, Train loss:0.0621, Val loss:1.0350, Train acc:65.2884, Val acc:69.1304\n",
            "Epoch 121/150, Train loss:0.0625, Val loss:1.0388, Train acc:65.0707, Val acc:67.3913\n",
            "Epoch 122/150, Train loss:0.0621, Val loss:1.0331, Train acc:66.2677, Val acc:68.2609\n",
            "Epoch 123/150, Train loss:0.0623, Val loss:1.0369, Train acc:65.3972, Val acc:68.6957\n",
            "Epoch 124/150, Train loss:0.0619, Val loss:1.0350, Train acc:64.9619, Val acc:66.0870\n",
            "Epoch 125/150, Train loss:0.0619, Val loss:1.0376, Train acc:65.7236, Val acc:66.9565\n",
            "Epoch 126/150, Train loss:0.0621, Val loss:1.0340, Train acc:66.1589, Val acc:68.2609\n",
            "Epoch 127/150, Train loss:0.0621, Val loss:1.0335, Train acc:65.8324, Val acc:68.2609\n",
            "Epoch 128/150, Train loss:0.0620, Val loss:1.0410, Train acc:66.4853, Val acc:67.3913\n",
            "Epoch 129/150, Train loss:0.0620, Val loss:1.0437, Train acc:65.7236, Val acc:67.8261\n",
            "Epoch 130/150, Train loss:0.0619, Val loss:1.0337, Train acc:65.2884, Val acc:66.9565\n",
            "Epoch 131/150, Train loss:0.0618, Val loss:1.0360, Train acc:65.7236, Val acc:69.5652\n",
            "Epoch 132/150, Train loss:0.0617, Val loss:1.0286, Train acc:65.1795, Val acc:68.2609\n",
            "Epoch 133/150, Train loss:0.0616, Val loss:1.0323, Train acc:65.8324, Val acc:69.5652\n",
            "Epoch 134/150, Train loss:0.0615, Val loss:1.0418, Train acc:65.8324, Val acc:65.6522\n",
            "Epoch 135/150, Train loss:0.0618, Val loss:1.0312, Train acc:66.4853, Val acc:68.6957\n",
            "Epoch 136/150, Train loss:0.0615, Val loss:1.0388, Train acc:67.1382, Val acc:69.5652\n",
            "Epoch 137/150, Train loss:0.0614, Val loss:1.0368, Train acc:67.2470, Val acc:68.2609\n",
            "Epoch 138/150, Train loss:0.0614, Val loss:1.0399, Train acc:67.6823, Val acc:66.5217\n",
            "Epoch 139/150, Train loss:0.0614, Val loss:1.0387, Train acc:68.2263, Val acc:66.9565\n",
            "Epoch 140/150, Train loss:0.0610, Val loss:1.0357, Train acc:68.1175, Val acc:67.8261\n",
            "Epoch 141/150, Train loss:0.0613, Val loss:1.0391, Train acc:67.7911, Val acc:67.8261\n",
            "Epoch 142/150, Train loss:0.0611, Val loss:1.0355, Train acc:68.0087, Val acc:67.8261\n",
            "Epoch 143/150, Train loss:0.0610, Val loss:1.0391, Train acc:68.5528, Val acc:67.3913\n",
            "Epoch 144/150, Train loss:0.0612, Val loss:1.0382, Train acc:68.7704, Val acc:64.7826\n",
            "Epoch 145/150, Train loss:0.0608, Val loss:1.0383, Train acc:67.7911, Val acc:67.8261\n",
            "Epoch 146/150, Train loss:0.0610, Val loss:1.0515, Train acc:67.7911, Val acc:67.3913\n",
            "Epoch 147/150, Train loss:0.0609, Val loss:1.0386, Train acc:68.8792, Val acc:66.9565\n",
            "Epoch 148/150, Train loss:0.0607, Val loss:1.0465, Train acc:69.8585, Val acc:67.3913\n",
            "Epoch 149/150, Train loss:0.0605, Val loss:1.0435, Train acc:69.8585, Val acc:67.8261\n",
            "Epoch 150/150, Train loss:0.0607, Val loss:1.0401, Train acc:69.0968, Val acc:68.6957\n",
            "Training completed\n",
            "saved the model\n"
          ]
        }
      ],
      "source": [
        "epochs = 150\n",
        "train_accuracy = []\n",
        "val_accuracy = []\n",
        "training_loss = []\n",
        "validation_loss = []\n",
        "\n",
        "for epoch in range(epochs):\n",
        "    CowTeatCNN.train()\n",
        "    train_loss = 0.0\n",
        "    train_correct = 0\n",
        "    train_total = 0\n",
        "    for X,y in train_dataloader:\n",
        "        X,y = X.to(device), y.to(device)\n",
        "        optimizer.zero_grad() #set optimizer gradients to 0\n",
        "        op = CowTeatCNN(X)\n",
        "        loss = loss_fn(op, y)\n",
        "        loss.backward() #pass loss function gradients to previous layers\n",
        "        optimizer.step() #update the weights\n",
        "\n",
        "        train_loss += loss.item()\n",
        "        pred = torch.argmax(op,1)\n",
        "        train_total += y.size(0)\n",
        "        train_correct += (pred == y).sum().item()\n",
        "\n",
        "    train_e_loss = train_loss/len(train_dataloader.dataset)\n",
        "    train_e_accuracy = 100*train_correct/train_total\n",
        "\n",
        "    CowTeatCNN.train()\n",
        "    val_loss = 0.0\n",
        "    val_correct = 0\n",
        "    val_total = 0\n",
        "    with torch.no_grad():\n",
        "        for X,y in valid_dataloader:\n",
        "            X,y = X.to(device), y.to(device)\n",
        "            op = CowTeatCNN(X)\n",
        "            loss = loss_fn(op, y)\n",
        "            val_loss += loss.item()*X.size(0)\n",
        "            pred = torch.argmax(op,1)\n",
        "            val_total += y.size(0)\n",
        "            val_correct +=(pred == y).sum().item() #check the val accuracy\n",
        "\n",
        "    val_e_loss = val_loss/len(valid_dataloader.dataset)\n",
        "    val_e_accuracy = 100*val_correct/val_total\n",
        "\n",
        "    #append the accuracy and loss values\n",
        "    train_accuracy.append(train_e_accuracy)\n",
        "    training_loss.append(train_e_loss)\n",
        "    val_accuracy.append(val_e_accuracy)\n",
        "    validation_loss.append(val_e_loss)\n",
        "\n",
        "    print(f\"Epoch {epoch+1}/{epochs}, Train loss:{train_e_loss:.4f}, Val loss:{val_e_loss:.4f}, Train acc:{train_e_accuracy:.4f}, Val acc:{val_e_accuracy:.4f}\")\n",
        "\n",
        "print(\"Training completed\")\n",
        "\n",
        "#save the model at the same location as this notebook\n",
        "torch.save(CowTeatCNN.state_dict(),'/content/drive/Shareddrives/School/NN and Deep learning/Homework 7/CNNmodel3_150.pt')\n",
        "print(\"saved the model\")"
      ]
    },
    {
      "cell_type": "code",
      "execution_count": null,
      "id": "aa53fd4d",
      "metadata": {
        "id": "aa53fd4d"
      },
      "outputs": [],
      "source": [
        "#save the model at the same location as this notebook\n",
        "#torch.save(CowTeatCNN.state_dict(),'/content/drive/Shareddrives/School/NN and Deep learning/Homework 7/CNNmodel3.pt')"
      ]
    },
    {
      "cell_type": "markdown",
      "source": [
        "#### Accuracy and Loss graphs:"
      ],
      "metadata": {
        "id": "Fbf_UDNFtlmm"
      },
      "id": "Fbf_UDNFtlmm"
    },
    {
      "cell_type": "code",
      "source": [
        "plt.plot(range(epochs),train_accuracy,'r', label = 'Train accuracy')\n",
        "plt.plot(range(epochs),val_accuracy,'b',label = 'Val accuracy')\n",
        "plt.legend()\n",
        "plt.xlabel('epochs'),plt.ylabel('Accuracy'),plt.show()"
      ],
      "metadata": {
        "colab": {
          "base_uri": "https://localhost:8080/",
          "height": 466
        },
        "id": "6l4jr5Vl2_Fi",
        "outputId": "7d038ecd-3fa5-49cd-9eb4-6ae41382044e"
      },
      "id": "6l4jr5Vl2_Fi",
      "execution_count": null,
      "outputs": [
        {
          "output_type": "display_data",
          "data": {
            "text/plain": [
              "<Figure size 640x480 with 1 Axes>"
            ],
            "image/png": "[encoded data removed]"
          },
          "metadata": {}
        },
        {
          "output_type": "execute_result",
          "data": {
            "text/plain": [
              "(Text(0.5, 24.0, 'epochs'), Text(24.000000000000007, 0.5, 'Accuracy'), None)"
            ]
          },
          "metadata": {},
          "execution_count": 21
        }
      ]
    },
    {
      "cell_type": "code",
      "source": [
        "#plt.plot(range(epochs),training_loss,'r',label ='Train loss')\n",
        "#plt.plot(range(epochs),validation_loss,'b',label = 'Val loss')\n",
        "#plt.legend()\n",
        "#plt.xlabel('epochs'),plt.ylabel('Loss'),plt.show()"
      ],
      "metadata": {
        "id": "Eun64BqO2ZWG"
      },
      "id": "Eun64BqO2ZWG",
      "execution_count": null,
      "outputs": []
    },
    {
      "cell_type": "code",
      "source": [
        "fig, ax1 = plt.subplots()\n",
        "ax2 = ax1.twinx()\n",
        "ax1.plot(range(epochs),training_loss,'r',label ='Train loss')\n",
        "ax2.plot(range(epochs),validation_loss,'b',label = 'Val loss')\n",
        "plt.legend()\n",
        "plt.xlabel('epochs'),plt.ylabel('Loss'),plt.show()"
      ],
      "metadata": {
        "id": "fTF7sA9sxhFC",
        "colab": {
          "base_uri": "https://localhost:8080/",
          "height": 447
        },
        "outputId": "e7a528ab-5149-4be8-d729-9dbdab1c3052"
      },
      "id": "fTF7sA9sxhFC",
      "execution_count": null,
      "outputs": [
        {
          "output_type": "display_data",
          "data": {
            "text/plain": [
              "<Figure size 640x480 with 2 Axes>"
            ],
            "image/png": "[encoded data removed]"
          },
          "metadata": {}
        },
        {
          "output_type": "execute_result",
          "data": {
            "text/plain": [
              "(Text(0.5, 0, 'epochs'), Text(618.8749999999999, 0.5, 'Loss'), None)"
            ]
          },
          "metadata": {},
          "execution_count": 23
        }
      ]
    },
    {
      "cell_type": "markdown",
      "source": [
        "#### Test dataloader:"
      ],
      "metadata": {
        "id": "fNu1ShEmtxLu"
      },
      "id": "fNu1ShEmtxLu"
    },
    {
      "cell_type": "code",
      "execution_count": null,
      "id": "1c2026f6",
      "metadata": {
        "id": "1c2026f6"
      },
      "outputs": [],
      "source": [
        "Test_path = \"/content/drive/Shareddrives/School/NN and Deep learning/Cow teat dataset/Test/\"\n",
        "\n",
        "Test_Normalized_img = []#list for normalized images\n",
        "Test_filename = []\n",
        "\n",
        "#accessing each image file listed from the path\n",
        "for file in os.listdir(Test_path):\n",
        "    Test_filename.append(file)\n",
        "\n",
        "    #read the image from a particular location\n",
        "    test_img = Image.open(Test_path+file)\n",
        "    #Resize, convert to torch tensor and normalize the image\n",
        "    transform_img = T.Compose([T.Resize(size),T.ToTensor(),norm])\n",
        "    test_img_normalized = transform_img(test_img)#.unsqueeze(0).to(device)\n",
        "    #append the normalized images to the list\n",
        "    Test_Normalized_img.append(test_img_normalized)\n",
        "\n",
        "#create a test dataloader with train normalize image and shuffle\n",
        "test_dataloader = DataLoader(list(zip(Test_Normalized_img,Test_filename)),\n",
        "                                               batch_size = 8)\n",
        "\n",
        "\n",
        "#assign the values from it to the normalized image and labels\n",
        "Test_image, f_name = next(iter(test_dataloader))"
      ]
    },
    {
      "cell_type": "code",
      "execution_count": null,
      "id": "a32a6952",
      "metadata": {
        "id": "a32a6952"
      },
      "outputs": [],
      "source": [
        "y_pred = []\n",
        "file_name = []\n",
        "with torch.no_grad():\n",
        "    CowTeatCNN.eval()\n",
        "    for X,y in test_dataloader:\n",
        "        if torch.cuda.is_available():\n",
        "            X = X.cuda()\n",
        "        op = CowTeatCNN(X)\n",
        "        _, predicted = torch.max(op,1)\n",
        "        preds = np.squeeze(predicted.cpu().numpy())\n",
        "        y_pred.extend(preds)\n",
        "        file_name.extend(y)"
      ]
    },
    {
      "cell_type": "code",
      "source": [
        "#calling pre-trained model\n",
        "\n",
        "#model = CNN_classification(num_classes)\n",
        "#model.load_state_dict(torch.load('/content/drive/Shareddrives/School/NN and Deep learning/Homework 7/Model 3 output/CNNmodel3_1.pt'))\n",
        "\n",
        "#saved trained model\n",
        "'''\n",
        "y_pred = []\n",
        "file_name = []\n",
        "with torch.no_grad():\n",
        "    model.eval()\n",
        "    for X,y in test_dataloader:\n",
        "        if torch.cuda.is_available():\n",
        "            X = X.cuda()\n",
        "        op = CowTeatCNN(X)\n",
        "        _, predicted = torch.max(op,1)\n",
        "        preds = np.squeeze(predicted.cpu().numpy())\n",
        "        y_pred.extend(preds)\n",
        "        file_name.extend(y)\n",
        "'''"
      ],
      "metadata": {
        "id": "6d9TJOoXt2OZ"
      },
      "id": "6d9TJOoXt2OZ",
      "execution_count": null,
      "outputs": []
    },
    {
      "cell_type": "code",
      "execution_count": null,
      "id": "932d2543",
      "metadata": {
        "id": "932d2543"
      },
      "outputs": [],
      "source": [
        "#y_pred"
      ]
    },
    {
      "cell_type": "markdown",
      "id": "7f63262f",
      "metadata": {
        "id": "7f63262f"
      },
      "source": [
        "# 3. Evaluate your model using the developed software"
      ]
    },
    {
      "cell_type": "code",
      "execution_count": null,
      "id": "a3ecf854",
      "metadata": {
        "id": "a3ecf854"
      },
      "outputs": [],
      "source": [
        "df = pd.DataFrame({'Filename':file_name,'Predictions':y_pred})\n",
        "df.to_csv('/content/drive/Shareddrives/School/NN and Deep learning/Homework 7/df_custom_CNN3_150.csv',index = False, header = False)"
      ]
    },
    {
      "cell_type": "code",
      "execution_count": null,
      "id": "1a99e034",
      "metadata": {
        "colab": {
          "base_uri": "https://localhost:8080/",
          "height": 520
        },
        "id": "1a99e034",
        "outputId": "f8bd1b60-6b33-4869-f098-392cfdff21c2"
      },
      "outputs": [
        {
          "output_type": "display_data",
          "data": {
            "text/plain": [
              "<Figure size 1000x1200 with 1 Axes>"
            ],
            "image/png": "[encoded data removed]"
          },
          "metadata": {}
        }
      ],
      "source": [
        "sc = plt.imread(\"/content/drive/Shareddrives/School/NN and Deep learning/Homework 7/CNN3_150.jpeg\")\n",
        "plt.figure(figsize = (10,12))\n",
        "plt.imshow(sc), plt.xticks([]),plt.yticks([])\n",
        "plt.show()"
      ]
    },
    {
      "cell_type": "markdown",
      "id": "1b5846bc",
      "metadata": {
        "id": "1b5846bc"
      },
      "source": [
        "# 4. Compare results with [SCTL paper](https://www.mdpi.com/2076-2615/12/7/886/htm). Requirement: performance is better than VGG16: 66.8%"
      ]
    },
    {
      "cell_type": "markdown",
      "source": [
        "#### Test accuracy for this model is 62.37%"
      ],
      "metadata": {
        "id": "Zzz2MUMfYPDc"
      },
      "id": "Zzz2MUMfYPDc"
    },
    {
      "cell_type": "markdown",
      "id": "62f12835",
      "metadata": {
        "id": "62f12835"
      },
      "source": [
        "# 5. Write a four-page paper report using the shared LaTex template. Upload your paper to ResearchGate or Arxiv, and put your paper link here."
      ]
    },
    {
      "cell_type": "markdown",
      "source": [
        "https://www.researchgate.net/publication/375494398_Convolution_Neural_Network_Image_Classification_of_Dairy_Cow_Teats_for_Health"
      ],
      "metadata": {
        "id": "4saPQk3yYMrH"
      },
      "id": "4saPQk3yYMrH"
    },
    {
      "cell_type": "code",
      "execution_count": null,
      "id": "445593c4",
      "metadata": {
        "id": "445593c4"
      },
      "outputs": [],
      "source": []
    }
  ],
  "metadata": {
    "kernelspec": {
      "display_name": "Python 3",
      "name": "python3"
    },
    "language_info": {
      "codemirror_mode": {
        "name": "ipython",
        "version": 3
      },
      "file_extension": ".py",
      "mimetype": "text/x-python",
      "name": "python",
      "nbconvert_exporter": "python",
      "pygments_lexer": "ipython3",
      "version": "3.11.4"
    },
    "colab": {
      "provenance": [],
      "gpuType": "T4"
    },
    "accelerator": "GPU"
  },
  "nbformat": 4,
  "nbformat_minor": 5
}